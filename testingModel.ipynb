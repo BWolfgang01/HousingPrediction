{
 "cells": [
  {
   "cell_type": "code",
   "id": "initial_id",
   "metadata": {
    "collapsed": true,
    "ExecuteTime": {
     "end_time": "2025-06-05T22:08:01.326884Z",
     "start_time": "2025-06-05T22:07:53.595071Z"
    }
   },
   "source": [
    "import pandas as pd\n",
    "import numpy as np\n",
    "import seaborn as sns\n",
    "import matplotlib.pyplot as plt\n",
    "from keras.src.losses import mean_absolute_error\n",
    "import tensorflow as tf"
   ],
   "outputs": [],
   "execution_count": 2
  },
  {
   "metadata": {
    "ExecuteTime": {
     "end_time": "2025-06-05T22:11:40.544425Z",
     "start_time": "2025-06-05T22:11:40.473860Z"
    }
   },
   "cell_type": "code",
   "source": [
    "from tensorflow.keras.models import load_model\n",
    "\n",
    "model = load_model('model.keras')"
   ],
   "id": "3da9c2e44c9f53a6",
   "outputs": [
    {
     "name": "stderr",
     "output_type": "stream",
     "text": [
      "C:\\Users\\User\\anaconda3\\Lib\\site-packages\\keras\\src\\saving\\saving_lib.py:802: UserWarning: Skipping variable loading for optimizer 'rmsprop', because it has 10 variables whereas the saved optimizer has 18 variables. \n",
      "  saveable.load_own_variables(weights_store.get(inner_path))\n"
     ]
    }
   ],
   "execution_count": 10
  },
  {
   "metadata": {
    "ExecuteTime": {
     "end_time": "2025-06-05T22:11:52.188826Z",
     "start_time": "2025-06-05T22:11:52.141382Z"
    }
   },
   "cell_type": "code",
   "source": [
    "from sklearn.model_selection import train_test_split\n",
    "from sklearn.feature_selection import SelectKBest, f_regression\n",
    "from sklearn.preprocessing import StandardScaler\n",
    "\n",
    "data = pd.read_csv('Housing.csv')\n",
    "data.replace({'yes': 1, 'no': 0}, inplace=True)\n",
    "data = data.join(pd.get_dummies(data.furnishingstatus)).drop('furnishingstatus', axis=1)\n",
    "data.dropna(inplace=True)\n",
    "x = data.drop(['price'], axis=1)\n",
    "y = data['price']\n",
    "xTrain, xTest, yTrain, yTest =  train_test_split(x,y,test_size=0.2)\n",
    "train_data = xTrain.join(yTrain)\n",
    "train_data['area'] = np.log(train_data['area']) + 1\n",
    "train_data['price'] = np.log(train_data['price']) + 1\n",
    "xTrain, yTrain = train_data.drop(['price'], axis = 1), train_data['price']\n",
    "test_data = xTest.join(yTest)\n",
    "test_data['area'] = np.log(test_data['area']) + 1\n",
    "test_data['price'] = np.log(test_data['price']) + 1\n",
    "xTest, yTest = test_data.drop(['price'], axis = 1), test_data['price']\n",
    "selector = SelectKBest(score_func=f_regression, k='all')  #k=8\n",
    "selector.fit(xTrain, yTrain)\n",
    "feature_scores = selector.scores_\n",
    "mask = feature_scores > 20\n",
    "xTrainReduced = xTrain.loc[:, mask]\n",
    "xTestReduced = xTest.loc[:, mask]\n",
    "scaler = StandardScaler()\n",
    "xTrainScaled = scaler.fit_transform(xTrainReduced)\n",
    "xTestScaled = scaler.transform(xTestReduced)"
   ],
   "id": "987719167917cd74",
   "outputs": [
    {
     "name": "stderr",
     "output_type": "stream",
     "text": [
      "C:\\Users\\User\\AppData\\Local\\Temp\\ipykernel_1064\\4275164966.py:6: FutureWarning: Downcasting behavior in `replace` is deprecated and will be removed in a future version. To retain the old behavior, explicitly call `result.infer_objects(copy=False)`. To opt-in to the future behavior, set `pd.set_option('future.no_silent_downcasting', True)`\n",
      "  data.replace({'yes': 1, 'no': 0}, inplace=True)\n"
     ]
    }
   ],
   "execution_count": 11
  },
  {
   "metadata": {
    "ExecuteTime": {
     "end_time": "2025-06-05T22:21:37.889940Z",
     "start_time": "2025-06-05T22:21:37.494196Z"
    }
   },
   "cell_type": "code",
   "source": [
    "import math\n",
    "from random import randint\n",
    "\n",
    "for i in range(5):\n",
    "    index = randint(0,len(xTestScaled)-1)\n",
    "    xSample = xTestScaled[index].reshape(1,-1)\n",
    "    yTrue = yTest.iloc[index]\n",
    "    yPred = model.predict(xSample,verbose=0)[0][0]\n",
    "\n",
    "    truePrice = np.e**(yTrue-1)\n",
    "    predictedPrice = np.e**(yPred-1)\n",
    "\n",
    "    print(f\"True price for house {index}: {math.ceil(truePrice):,}\")\n",
    "    print(f\"Predicted price for house {index}: {predictedPrice:,.2f}\\n\")"
   ],
   "id": "9ef6866d4eca743d",
   "outputs": [
    {
     "name": "stdout",
     "output_type": "stream",
     "text": [
      "True price for house 7: 8,120,000\n",
      "Predicted price for house 7: 6,354,057.78\n",
      "\n",
      "True price for house 96: 3,150,001\n",
      "Predicted price for house 96: 3,239,413.65\n",
      "\n",
      "True price for house 4: 5,740,001\n",
      "Predicted price for house 4: 5,512,336.20\n",
      "\n",
      "True price for house 25: 5,600,001\n",
      "Predicted price for house 25: 5,684,052.32\n",
      "\n",
      "True price for house 55: 5,040,000\n",
      "Predicted price for house 55: 7,208,679.04\n",
      "\n"
     ]
    }
   ],
   "execution_count": 26
  },
  {
   "metadata": {},
   "cell_type": "code",
   "outputs": [],
   "execution_count": null,
   "source": "",
   "id": "85feb75471b1bdea"
  }
 ],
 "metadata": {
  "kernelspec": {
   "display_name": "Python 3",
   "language": "python",
   "name": "python3"
  },
  "language_info": {
   "codemirror_mode": {
    "name": "ipython",
    "version": 2
   },
   "file_extension": ".py",
   "mimetype": "text/x-python",
   "name": "python",
   "nbconvert_exporter": "python",
   "pygments_lexer": "ipython2",
   "version": "2.7.6"
  }
 },
 "nbformat": 4,
 "nbformat_minor": 5
}
